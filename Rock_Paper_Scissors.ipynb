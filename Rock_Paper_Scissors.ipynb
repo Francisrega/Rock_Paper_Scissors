{
 "cells": [
  {
   "cell_type": "code",
   "execution_count": null,
   "metadata": {},
   "outputs": [],
   "source": [
    "#making a rock paper scissors game.\n",
    "\n",
    "first_person = input(\"First players name: \")\n",
    "second_person = input(\"Second players name: \")\n",
    "\n",
    "def check(player1, player2):\n",
    "  if player1 != \"Rock\" and player1 != \"Paper\" and player1 != \"Scissors\":\n",
    "    print(\"You did not enter rock, paper or scissors. Please try again.\\n\")\n",
    "\n",
    "  elif player2 != \"Rock\" and player2 != \"Paper\" and player2 != \"Scissors\":\n",
    "    print(\"You did not enter rock, paper or scissors. Please try again.\\n\")\n",
    "def game(player1, player2):\n",
    "  if player1 == player2:\n",
    "    print(\"It's a draw. Please try again.\\n\")\n",
    "  elif player1 == \"Rock\":\n",
    "    if player2 == \"Scissors\":\n",
    "      print(first_person + \" wins!\\n\")\n",
    "    else:\n",
    "      print(second_person + \" wins:\\n\")\n",
    "  elif player1 == \"Paper\":\n",
    "    if player2 == \"Scissors\":\n",
    "      print(second_person + \" wins!\\n\")\n",
    "    else:\n",
    "      print(first_person + \" wins!\\n\")\n",
    "  elif player1 == \"Scissors\":\n",
    "    if player2 == \"Rock\":\n",
    "      print(second_person + \" wins!\\n\")\n",
    "    else: \n",
    "      print(first_person + \" wins!\\n\")\n",
    "\n",
    "while True:\n",
    "  player1 = str(input(\"Rock, Paper or Scissors?\\n\"))\n",
    "  player2 = str(input(\"Rock, Paper or Scissors?\\n\"))\n",
    "\n",
    "  check(player1, player2)\n",
    "  game(player1, player2)\n",
    "  break"
   ]
  }
 ],
 "metadata": {
  "kernelspec": {
   "display_name": "Python 3",
   "language": "python",
   "name": "python3"
  },
  "language_info": {
   "codemirror_mode": {
    "name": "ipython",
    "version": 3
   },
   "file_extension": ".py",
   "mimetype": "text/x-python",
   "name": "python",
   "nbconvert_exporter": "python",
   "pygments_lexer": "ipython3",
   "version": "3.7.3"
  }
 },
 "nbformat": 4,
 "nbformat_minor": 2
}
